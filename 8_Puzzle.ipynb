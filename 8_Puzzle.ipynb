{
  "nbformat": 4,
  "nbformat_minor": 0,
  "metadata": {
    "colab": {
      "provenance": [],
      "authorship_tag": "ABX9TyOx2ZZd8BvBJByoqtaZCt63",
      "include_colab_link": true
    },
    "kernelspec": {
      "name": "python3",
      "display_name": "Python 3"
    },
    "language_info": {
      "name": "python"
    }
  },
  "cells": [
    {
      "cell_type": "markdown",
      "metadata": {
        "id": "view-in-github",
        "colab_type": "text"
      },
      "source": [
        "<a href=\"https://colab.research.google.com/github/BhargavaGY/AI_LAB/blob/main/8_Puzzle.ipynb\" target=\"_parent\"><img src=\"https://colab.research.google.com/assets/colab-badge.svg\" alt=\"Open In Colab\"/></a>"
      ]
    },
    {
      "cell_type": "code",
      "execution_count": 1,
      "metadata": {
        "id": "DZ8KC0Jp6zR_"
      },
      "outputs": [],
      "source": [
        "import numpy as np  # Used to store the digits in an array\n",
        "import os  # Used to delete the file created by previous running of the program"
      ]
    },
    {
      "cell_type": "code",
      "source": [
        "class Node:\n",
        "    def __init__(self, node_no, data, parent, act, cost):\n",
        "        self.data = data\n",
        "        self.parent = parent\n",
        "        self.act = act\n",
        "        self.node_no = node_no\n",
        "        self.cost = cost"
      ],
      "metadata": {
        "id": "vEHboqeE7DC6"
      },
      "execution_count": 2,
      "outputs": []
    },
    {
      "cell_type": "code",
      "source": [
        "def get_initial():\n",
        "    print(\"Please enter number from 0-8, no number should be repeated or be out of this range\")\n",
        "    initial_state = np.zeros(9)\n",
        "    for i in range(9):\n",
        "        states = int(input(\"Enter the \" + str(i + 1) + \" number: \"))\n",
        "        if states < 0 or states > 8:\n",
        "            print(\"Please only enter states which are [0-8], run code again\")\n",
        "            exit(0)\n",
        "        else:\n",
        "            initial_state[i] = np.array(states)\n",
        "    return np.reshape(initial_state, (3, 3))"
      ],
      "metadata": {
        "id": "3v0pJIvz7F4p"
      },
      "execution_count": 3,
      "outputs": []
    },
    {
      "cell_type": "code",
      "source": [
        "def find_index(puzzle):\n",
        "    i, j = np.where(puzzle == 0)\n",
        "    i = int(i)\n",
        "    j = int(j)\n",
        "    return i, j"
      ],
      "metadata": {
        "id": "rJSm7HN47MEp"
      },
      "execution_count": 4,
      "outputs": []
    },
    {
      "cell_type": "code",
      "source": [
        "def move_left(data):\n",
        "    i, j = find_index(data)\n",
        "    if j == 0:\n",
        "        return None\n",
        "    else:\n",
        "        temp_arr = np.copy(data)\n",
        "        temp = temp_arr[i, j - 1]\n",
        "        temp_arr[i, j] = temp\n",
        "        temp_arr[i, j - 1] = 0\n",
        "        return temp_arr"
      ],
      "metadata": {
        "id": "Q4WgpaBf7R1p"
      },
      "execution_count": 5,
      "outputs": []
    },
    {
      "cell_type": "code",
      "source": [
        "def move_right(data):\n",
        "    i, j = find_index(data)\n",
        "    if j == 2:\n",
        "        return None\n",
        "    else:\n",
        "        temp_arr = np.copy(data)\n",
        "        temp = temp_arr[i, j + 1]\n",
        "        temp_arr[i, j] = temp\n",
        "        temp_arr[i, j + 1] = 0\n",
        "        return temp_arr"
      ],
      "metadata": {
        "id": "ki6vCSX97UsQ"
      },
      "execution_count": 6,
      "outputs": []
    },
    {
      "cell_type": "code",
      "source": [
        "def move_up(data):\n",
        "    i, j = find_index(data)\n",
        "    if i == 0:\n",
        "        return None\n",
        "    else:\n",
        "        temp_arr = np.copy(data)\n",
        "        temp = temp_arr[i - 1, j]\n",
        "        temp_arr[i, j] = temp\n",
        "        temp_arr[i - 1, j] = 0\n",
        "        return temp_arr"
      ],
      "metadata": {
        "id": "M3ww9iQN7X15"
      },
      "execution_count": 7,
      "outputs": []
    },
    {
      "cell_type": "code",
      "source": [
        "def move_down(data):\n",
        "    i, j = find_index(data)\n",
        "    if i == 2:\n",
        "        return None\n",
        "    else:\n",
        "        temp_arr = np.copy(data)\n",
        "        temp = temp_arr[i + 1, j]\n",
        "        temp_arr[i, j] = temp\n",
        "        temp_arr[i + 1, j] = 0\n",
        "        return temp_arr"
      ],
      "metadata": {
        "id": "qnLJ21n97hv5"
      },
      "execution_count": 8,
      "outputs": []
    },
    {
      "cell_type": "code",
      "source": [
        "def move_tile(action, data):\n",
        "    if action == 'up':\n",
        "        return move_up(data)\n",
        "    if action == 'down':\n",
        "        return move_down(data)\n",
        "    if action == 'left':\n",
        "        return move_left(data)\n",
        "    if action == 'right':\n",
        "        return move_right(data)\n",
        "    else:\n",
        "        return None"
      ],
      "metadata": {
        "id": "LwBBBpXX7k_w"
      },
      "execution_count": 9,
      "outputs": []
    },
    {
      "cell_type": "code",
      "source": [
        "def print_states(list_final):  # To print the final states on the console\n",
        "    print(\"printing final solution\")\n",
        "    for l in list_final:\n",
        "        print(\"Move : \" + str(l.act) + \"\\n\" + \"Result : \" + \"\\n\" + str(l.data) + \"\\t\" + \"node number:\" + str(l.node_no))"
      ],
      "metadata": {
        "id": "vvubEy257omo"
      },
      "execution_count": 10,
      "outputs": []
    },
    {
      "cell_type": "code",
      "source": [
        "def write_path(path_formed):  # To write the final path in the text file\n",
        "    if os.path.exists(\"Path_file.txt\"):\n",
        "        os.remove(\"Path_file.txt\")\n",
        "\n",
        "    f = open(\"Path_file.txt\", \"a\")\n",
        "    for node in path_formed:\n",
        "        if node.parent is not None:\n",
        "            f.write(str(node.node_no) + \"\\t\" + str(node.parent.node_no) + \"\\t\" + str(node.cost) + \"\\n\")\n",
        "    f.close()"
      ],
      "metadata": {
        "id": "Jh40U-Cw7sdP"
      },
      "execution_count": 11,
      "outputs": []
    },
    {
      "cell_type": "code",
      "source": [
        "def write_node_explored(explored):  # To write all the nodes explored by the program\n",
        "    if os.path.exists(\"Nodes.txt\"):\n",
        "        os.remove(\"Nodes.txt\")\n",
        "\n",
        "    f = open(\"Nodes.txt\", \"a\")\n",
        "    for element in explored:\n",
        "        f.write('[')\n",
        "        for i in range(len(element)):\n",
        "            for j in range(len(element)):\n",
        "                f.write(str(element[j][i]) + \" \")\n",
        "        f.write(']')\n",
        "        f.write(\"\\n\")\n",
        "    f.close()"
      ],
      "metadata": {
        "id": "2OaEtjoD7tr3"
      },
      "execution_count": 12,
      "outputs": []
    },
    {
      "cell_type": "code",
      "source": [
        "def write_node_info(visited):  # To write all the info about the nodes explored by the program\n",
        "    if os.path.exists(\"Node_info.txt\"):\n",
        "        os.remove(\"Node_info.txt\")\n",
        "\n",
        "    f = open(\"Node_info.txt\", \"a\")\n",
        "    for n in visited:\n",
        "        if n.parent is not None:\n",
        "            f.write(str(n.node_no) + \"\\t\" + str(n.parent.node_no) + \"\\t\" + str(n.cost) + \"\\n\")\n",
        "    f.close()"
      ],
      "metadata": {
        "id": "jFyHVP1J7y4f"
      },
      "execution_count": 13,
      "outputs": []
    },
    {
      "cell_type": "code",
      "source": [
        "def path(node):  # To find the path from the goal node to the starting node\n",
        "    p = []  # Empty list\n",
        "    p.append(node)\n",
        "    parent_node = node.parent\n",
        "    while parent_node is not None:\n",
        "        p.append(parent_node)\n",
        "        parent_node = parent_node.parent\n",
        "    return list(reversed(p))"
      ],
      "metadata": {
        "id": "LVekjdHt71cv"
      },
      "execution_count": 14,
      "outputs": []
    },
    {
      "cell_type": "code",
      "source": [
        "def exploring_nodes(node):\n",
        "    print(\"Exploring Nodes\")\n",
        "    actions = [\"down\", \"up\", \"left\", \"right\"]\n",
        "    goal_node = np.array([[1, 2, 3], [4, 5, 6], [7, 8, 0]])\n",
        "    node_q = [node]\n",
        "    final_nodes = []\n",
        "    visited = []\n",
        "    final_nodes.append(node_q[0].data.tolist())  # Only writing data of nodes in seen\n",
        "    node_counter = 0  # To define a unique ID to all the nodes formed\n",
        "\n",
        "    while node_q:\n",
        "        current_root = node_q.pop(0)  # Pop the element 0 from the list\n",
        "        if current_root.data.tolist() == goal_node.tolist():\n",
        "            print(\"Goal reached\")\n",
        "            return current_root, final_nodes, visited\n",
        "\n",
        "        for move in actions:\n",
        "            temp_data = move_tile(move, current_root.data)\n",
        "            if temp_data is not None:\n",
        "                node_counter += 1\n",
        "                child_node = Node(node_counter, np.array(temp_data), current_root, move, 0)  # Create a child node\n",
        "\n",
        "                if child_node.data.tolist() not in final_nodes:  # Add the child node data in final node list\n",
        "                    node_q.append(child_node)\n",
        "                    final_nodes.append(child_node.data.tolist())\n",
        "                    visited.append(child_node)\n",
        "                    if child_node.data.tolist() == goal_node.tolist():\n",
        "                        print(\"Goal_reached\")\n",
        "                        return child_node, final_nodes, visited\n",
        "    return None, None, None  # return statement if the goal node is not reached"
      ],
      "metadata": {
        "id": "TXJLH2lH75t_"
      },
      "execution_count": 15,
      "outputs": []
    },
    {
      "cell_type": "code",
      "source": [
        "def check_correct_input(l):\n",
        "    array = np.reshape(l, 9)\n",
        "    for i in range(9):\n",
        "        counter_appear = 0\n",
        "        f = array[i]\n",
        "        for j in range(9):\n",
        "            if f == array[j]:\n",
        "                counter_appear += 1\n",
        "        if counter_appear >= 2:\n",
        "            print(\"invalid input, same number entered 2 times\")\n",
        "            exit(0)"
      ],
      "metadata": {
        "id": "OgF-KF-e78MX"
      },
      "execution_count": 16,
      "outputs": []
    },
    {
      "cell_type": "code",
      "source": [
        "def check_solvable(g):\n",
        "    arr = np.reshape(g, 9)\n",
        "    counter_states = 0\n",
        "    for i in range(9):\n",
        "        if not arr[i] == 0:\n",
        "            check_elem = arr[i]\n",
        "            for x in range(i + 1, 9):\n",
        "                if check_elem < arr[x] or arr[x] == 0:\n",
        "                    continue\n",
        "                else:\n",
        "                    counter_states += 1\n",
        "    if counter_states % 2 == 0:\n",
        "        print(\"The puzzle is solvable, generating path\")\n",
        "    else:\n",
        "        print(\"The puzzle is insolvable, still creating nodes\")\n"
      ],
      "metadata": {
        "id": "6jcRtUV978N4"
      },
      "execution_count": 17,
      "outputs": []
    },
    {
      "cell_type": "code",
      "source": [
        "# Final Running of the Code\n",
        "\n",
        "# uncomment the line below to run it for a fixed data input and comment the line below it\n",
        "# k = np.array([[1, 2, 3], [4, 5, 6], [7, 8, 0]])\n",
        "k = get_initial()\n",
        "\n",
        "check_correct_input(k)\n",
        "check_solvable(k)\n",
        "\n",
        "root = Node(0, k, None, None, 0)\n",
        "\n",
        "# BFS implementation call\n",
        "goal, s, v = exploring_nodes(root)\n",
        "\n",
        "if goal is None and s is None and v is None:\n",
        "    print(\"Goal State could not be reached, Sorry\")\n",
        "else:\n",
        "    # Print and write the final output\n",
        "    print_states(path(goal))\n",
        "    write_path(path(goal))\n",
        "    write_node_explored(s)\n",
        "    write_node_info(v)\n"
      ],
      "metadata": {
        "colab": {
          "base_uri": "https://localhost:8080/"
        },
        "id": "JJZ9GSdR8Ew_",
        "outputId": "261925e8-b1f5-47bb-a0dd-08da967ae9f1"
      },
      "execution_count": 19,
      "outputs": [
        {
          "output_type": "stream",
          "name": "stdout",
          "text": [
            "Please enter number from 0-8, no number should be repeated or be out of this range\n",
            "Enter the 1 number: 1\n",
            "Enter the 2 number: 2\n",
            "Enter the 3 number: 3\n",
            "Enter the 4 number: 0\n",
            "Enter the 5 number: 4\n",
            "Enter the 6 number: 5\n",
            "Enter the 7 number: 6\n",
            "Enter the 8 number: 7\n",
            "Enter the 9 number: 8\n",
            "The puzzle is solvable, generating path\n",
            "Exploring Nodes\n",
            "Goal_reached\n",
            "printing final solution\n",
            "Move : None\n",
            "Result : \n",
            "[[1. 2. 3.]\n",
            " [0. 4. 5.]\n",
            " [6. 7. 8.]]\tnode number:0\n",
            "Move : right\n",
            "Result : \n",
            "[[1. 2. 3.]\n",
            " [4. 0. 5.]\n",
            " [6. 7. 8.]]\tnode number:3\n",
            "Move : right\n",
            "Result : \n",
            "[[1. 2. 3.]\n",
            " [4. 5. 0.]\n",
            " [6. 7. 8.]]\tnode number:11\n",
            "Move : down\n",
            "Result : \n",
            "[[1. 2. 3.]\n",
            " [4. 5. 8.]\n",
            " [6. 7. 0.]]\tnode number:24\n",
            "Move : left\n",
            "Result : \n",
            "[[1. 2. 3.]\n",
            " [4. 5. 8.]\n",
            " [6. 0. 7.]]\tnode number:48\n",
            "Move : left\n",
            "Result : \n",
            "[[1. 2. 3.]\n",
            " [4. 5. 8.]\n",
            " [0. 6. 7.]]\tnode number:88\n",
            "Move : up\n",
            "Result : \n",
            "[[1. 2. 3.]\n",
            " [0. 5. 8.]\n",
            " [4. 6. 7.]]\tnode number:157\n",
            "Move : right\n",
            "Result : \n",
            "[[1. 2. 3.]\n",
            " [5. 0. 8.]\n",
            " [4. 6. 7.]]\tnode number:278\n",
            "Move : down\n",
            "Result : \n",
            "[[1. 2. 3.]\n",
            " [5. 6. 8.]\n",
            " [4. 0. 7.]]\tnode number:467\n",
            "Move : right\n",
            "Result : \n",
            "[[1. 2. 3.]\n",
            " [5. 6. 8.]\n",
            " [4. 7. 0.]]\tnode number:780\n",
            "Move : up\n",
            "Result : \n",
            "[[1. 2. 3.]\n",
            " [5. 6. 0.]\n",
            " [4. 7. 8.]]\tnode number:1267\n",
            "Move : left\n",
            "Result : \n",
            "[[1. 2. 3.]\n",
            " [5. 0. 6.]\n",
            " [4. 7. 8.]]\tnode number:2070\n",
            "Move : left\n",
            "Result : \n",
            "[[1. 2. 3.]\n",
            " [0. 5. 6.]\n",
            " [4. 7. 8.]]\tnode number:3323\n",
            "Move : down\n",
            "Result : \n",
            "[[1. 2. 3.]\n",
            " [4. 5. 6.]\n",
            " [0. 7. 8.]]\tnode number:5415\n",
            "Move : right\n",
            "Result : \n",
            "[[1. 2. 3.]\n",
            " [4. 5. 6.]\n",
            " [7. 0. 8.]]\tnode number:8650\n",
            "Move : right\n",
            "Result : \n",
            "[[1. 2. 3.]\n",
            " [4. 5. 6.]\n",
            " [7. 8. 0.]]\tnode number:13882\n"
          ]
        }
      ]
    }
  ]
}